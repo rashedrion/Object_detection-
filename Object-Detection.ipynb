{
 "cells": [
  {
   "cell_type": "code",
   "execution_count": null,
   "id": "a366bf62",
   "metadata": {},
   "outputs": [],
   "source": [
    "import cv2 # pip install opencv-python"
   ]
  },
  {
   "cell_type": "code",
   "execution_count": null,
   "id": "39dc1517",
   "metadata": {},
   "outputs": [],
   "source": [
    "import matplotlib.pyplot as plt # pip install matplotlib"
   ]
  },
  {
   "cell_type": "code",
   "execution_count": null,
   "id": "de3ec868",
   "metadata": {},
   "outputs": [],
   "source": [
    "config_file= 'ssd_mobilenet_v3_large_coco_2020_01_14.pbtxt'\n",
    "frozen_model= 'frozen_inference_graph.pb'"
   ]
  },
  {
   "cell_type": "code",
   "execution_count": null,
   "id": "3cb44742",
   "metadata": {},
   "outputs": [],
   "source": [
    "model = cv2.dnn_DetectionModel(frozen_model,config_file)"
   ]
  },
  {
   "cell_type": "code",
   "execution_count": null,
   "id": "466d4c4e",
   "metadata": {},
   "outputs": [],
   "source": [
    "classLabels =[]## empty list of python \n",
    "file_name= 'Labels.txt'\n",
    "with open (file_name,'rt') as fpt:\n",
    "    classLabels =fpt.read().rstrip('\\n').split('\\n')\n",
    "    #classLabels.append(fpt.read())"
   ]
  },
  {
   "cell_type": "code",
   "execution_count": null,
   "id": "e525de2d",
   "metadata": {},
   "outputs": [],
   "source": [
    "print (classLabels)"
   ]
  },
  {
   "cell_type": "code",
   "execution_count": null,
   "id": "2ddc948b",
   "metadata": {},
   "outputs": [],
   "source": [
    "print(len(classLabels))"
   ]
  },
  {
   "cell_type": "code",
   "execution_count": null,
   "id": "c1092b85",
   "metadata": {},
   "outputs": [],
   "source": [
    "model.setInputSize(320,320)\n",
    "model.setInputScale(1.0/127.5)#255/2=127.5\n",
    "model.setInputMean((127.5,127.5,127.5))\n",
    "model.setInputSwapRB(True)\n"
   ]
  },
  {
   "cell_type": "markdown",
   "id": "72e14003",
   "metadata": {},
   "source": [
    "# read an image"
   ]
  },
  {
   "cell_type": "code",
   "execution_count": null,
   "id": "1611891e",
   "metadata": {},
   "outputs": [],
   "source": [
    "img =cv2.imread('20180322_164353-e1538497956989.jpg')"
   ]
  },
  {
   "cell_type": "code",
   "execution_count": null,
   "id": "2584f2a7",
   "metadata": {},
   "outputs": [],
   "source": [
    "plt.imshow(img)#bgr"
   ]
  },
  {
   "cell_type": "code",
   "execution_count": null,
   "id": "ac25c802",
   "metadata": {},
   "outputs": [],
   "source": [
    "plt.imshow(cv2.cvtColor(img,cv2.COLOR_BGR2RGB))"
   ]
  },
  {
   "cell_type": "code",
   "execution_count": null,
   "id": "11e0701d",
   "metadata": {},
   "outputs": [],
   "source": [
    "ClassIndex, confidece,bbox=model.detect(img,confThreshold=0.5)"
   ]
  },
  {
   "cell_type": "code",
   "execution_count": null,
   "id": "e265d563",
   "metadata": {},
   "outputs": [],
   "source": [
    "print(ClassIndex)"
   ]
  },
  {
   "cell_type": "code",
   "execution_count": null,
   "id": "633a53ae",
   "metadata": {},
   "outputs": [],
   "source": [
    "font_scale=3\n",
    "font=cv2.FONT_HERSHEY_PLAIN\n",
    "for ClassInd,conf,boxes in zip(ClassIndex.flatten(),confidece.flatten(),bbox):\n",
    "    cv2.rectangle(img,boxes,(255,0,0),2)\n",
    "    cv2.putText(img,classLabels[ClassInd-1],(boxes[0]+10,boxes[1]+40),font,fontScale=font_scale,color=(0,255,0),thickness=3)"
   ]
  },
  {
   "cell_type": "code",
   "execution_count": null,
   "id": "182d72fa",
   "metadata": {
    "scrolled": false
   },
   "outputs": [],
   "source": [
    "plt.imshow(cv2.cvtColor(img,cv2.COLOR_BGR2RGB))"
   ]
  },
  {
   "cell_type": "markdown",
   "id": "e35f23d0",
   "metadata": {},
   "source": [
    "# Video Demo"
   ]
  },
  {
   "cell_type": "code",
   "execution_count": null,
   "id": "819c5e17",
   "metadata": {},
   "outputs": [],
   "source": [
    "cap = cv2.VideoCapture(1)           \n",
    "#check if the video is opened correctly\n",
    "if not cap.isOpened():\n",
    "    cap = cv2.VideoCapture(0)\n",
    "if not cap.isOpened():\n",
    "    raise IOError(\"Cannot open webcam\")\n",
    "    \n",
    "font_scale = 3\n",
    "font = cv2.FONT_HERSHEY_PLAIN\n",
    "\n",
    "while True:\n",
    "    ret,frame = cap.read()\n",
    "    \n",
    "    ClassIndex,confidece,bbox=model.detect(frame,confThreshold=0.55)\n",
    "    \n",
    "    print(ClassIndex)\n",
    "    if (len(ClassIndex)!=0):\n",
    "        for ClassInd, conf,boxes in zip(ClassIndex.flatten(), confidece.flatten(),bbox):\n",
    "            if(ClassInd<=80):\n",
    "                cv2.rectangle(frame,boxes,(255,0,0),2)\n",
    "                cv2.putText(frame,classLabels[ClassInd-1],(boxes[0]+10,boxes[1]+40),font,fontScale=font_scale,color=(0,255,0),thickness=3)\n",
    "    cv2.imshow('object detection Video',frame)\n",
    "\n",
    "    if cv2.waitKey(2)& 0xFF == ord('q'):\n",
    "        break\n",
    "\n",
    "cap.release()\n",
    "cv2.destroyWindow()"
   ]
  },
  {
   "cell_type": "code",
   "execution_count": null,
   "id": "856ea09c",
   "metadata": {},
   "outputs": [],
   "source": []
  },
  {
   "cell_type": "code",
   "execution_count": null,
   "id": "b1704045",
   "metadata": {},
   "outputs": [],
   "source": []
  }
 ],
 "metadata": {
  "kernelspec": {
   "display_name": "Python 3 (ipykernel)",
   "language": "python",
   "name": "python3"
  },
  "language_info": {
   "codemirror_mode": {
    "name": "ipython",
    "version": 3
   },
   "file_extension": ".py",
   "mimetype": "text/x-python",
   "name": "python",
   "nbconvert_exporter": "python",
   "pygments_lexer": "ipython3",
   "version": "3.9.7"
  }
 },
 "nbformat": 4,
 "nbformat_minor": 5
}
